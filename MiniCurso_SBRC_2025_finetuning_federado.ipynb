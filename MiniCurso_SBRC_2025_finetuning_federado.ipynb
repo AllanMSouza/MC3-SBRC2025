{
  "nbformat": 4,
  "nbformat_minor": 0,
  "metadata": {
    "colab": {
      "provenance": [],
      "gpuType": "T4"
    },
    "kernelspec": {
      "name": "python3",
      "display_name": "Python 3"
    },
    "language_info": {
      "name": "python"
    },
    "accelerator": "GPU",
    "widgets": {
      "application/vnd.jupyter.widget-state+json": {
        "8ebddae17ec64c158bf8b07a2591aad6": {
          "model_module": "@jupyter-widgets/controls",
          "model_name": "HBoxModel",
          "model_module_version": "1.5.0",
          "state": {
            "_dom_classes": [],
            "_model_module": "@jupyter-widgets/controls",
            "_model_module_version": "1.5.0",
            "_model_name": "HBoxModel",
            "_view_count": null,
            "_view_module": "@jupyter-widgets/controls",
            "_view_module_version": "1.5.0",
            "_view_name": "HBoxView",
            "box_style": "",
            "children": [
              "IPY_MODEL_65ca025336d74c97bd71bb49b1e2fa6f",
              "IPY_MODEL_7f4d253b0948411c983aa078031940da",
              "IPY_MODEL_ca99ddae7836417585ec8b1a92dc1f7b"
            ],
            "layout": "IPY_MODEL_00c136136a90451e8d7b0a06f0479f03"
          }
        },
        "65ca025336d74c97bd71bb49b1e2fa6f": {
          "model_module": "@jupyter-widgets/controls",
          "model_name": "HTMLModel",
          "model_module_version": "1.5.0",
          "state": {
            "_dom_classes": [],
            "_model_module": "@jupyter-widgets/controls",
            "_model_module_version": "1.5.0",
            "_model_name": "HTMLModel",
            "_view_count": null,
            "_view_module": "@jupyter-widgets/controls",
            "_view_module_version": "1.5.0",
            "_view_name": "HTMLView",
            "description": "",
            "description_tooltip": null,
            "layout": "IPY_MODEL_d25bb3179cce49138bfbe658db10bc9c",
            "placeholder": "​",
            "style": "IPY_MODEL_18e4bda6755d408f8425ad43a822d0a8",
            "value": "tokenizer_config.json: 100%"
          }
        },
        "7f4d253b0948411c983aa078031940da": {
          "model_module": "@jupyter-widgets/controls",
          "model_name": "FloatProgressModel",
          "model_module_version": "1.5.0",
          "state": {
            "_dom_classes": [],
            "_model_module": "@jupyter-widgets/controls",
            "_model_module_version": "1.5.0",
            "_model_name": "FloatProgressModel",
            "_view_count": null,
            "_view_module": "@jupyter-widgets/controls",
            "_view_module_version": "1.5.0",
            "_view_name": "ProgressView",
            "bar_style": "success",
            "description": "",
            "description_tooltip": null,
            "layout": "IPY_MODEL_25695dbfc82346bb981e094511d73463",
            "max": 3685,
            "min": 0,
            "orientation": "horizontal",
            "style": "IPY_MODEL_68bdf3a2d64b405d9da025261049c74f",
            "value": 3685
          }
        },
        "ca99ddae7836417585ec8b1a92dc1f7b": {
          "model_module": "@jupyter-widgets/controls",
          "model_name": "HTMLModel",
          "model_module_version": "1.5.0",
          "state": {
            "_dom_classes": [],
            "_model_module": "@jupyter-widgets/controls",
            "_model_module_version": "1.5.0",
            "_model_name": "HTMLModel",
            "_view_count": null,
            "_view_module": "@jupyter-widgets/controls",
            "_view_module_version": "1.5.0",
            "_view_name": "HTMLView",
            "description": "",
            "description_tooltip": null,
            "layout": "IPY_MODEL_e87be72578b349b683ed3d6a6ac1f10b",
            "placeholder": "​",
            "style": "IPY_MODEL_ea527fd501b64fcf85d652a639943d77",
            "value": " 3.69k/3.69k [00:00&lt;00:00, 112kB/s]"
          }
        },
        "00c136136a90451e8d7b0a06f0479f03": {
          "model_module": "@jupyter-widgets/base",
          "model_name": "LayoutModel",
          "model_module_version": "1.2.0",
          "state": {
            "_model_module": "@jupyter-widgets/base",
            "_model_module_version": "1.2.0",
            "_model_name": "LayoutModel",
            "_view_count": null,
            "_view_module": "@jupyter-widgets/base",
            "_view_module_version": "1.2.0",
            "_view_name": "LayoutView",
            "align_content": null,
            "align_items": null,
            "align_self": null,
            "border": null,
            "bottom": null,
            "display": null,
            "flex": null,
            "flex_flow": null,
            "grid_area": null,
            "grid_auto_columns": null,
            "grid_auto_flow": null,
            "grid_auto_rows": null,
            "grid_column": null,
            "grid_gap": null,
            "grid_row": null,
            "grid_template_areas": null,
            "grid_template_columns": null,
            "grid_template_rows": null,
            "height": null,
            "justify_content": null,
            "justify_items": null,
            "left": null,
            "margin": null,
            "max_height": null,
            "max_width": null,
            "min_height": null,
            "min_width": null,
            "object_fit": null,
            "object_position": null,
            "order": null,
            "overflow": null,
            "overflow_x": null,
            "overflow_y": null,
            "padding": null,
            "right": null,
            "top": null,
            "visibility": null,
            "width": null
          }
        },
        "d25bb3179cce49138bfbe658db10bc9c": {
          "model_module": "@jupyter-widgets/base",
          "model_name": "LayoutModel",
          "model_module_version": "1.2.0",
          "state": {
            "_model_module": "@jupyter-widgets/base",
            "_model_module_version": "1.2.0",
            "_model_name": "LayoutModel",
            "_view_count": null,
            "_view_module": "@jupyter-widgets/base",
            "_view_module_version": "1.2.0",
            "_view_name": "LayoutView",
            "align_content": null,
            "align_items": null,
            "align_self": null,
            "border": null,
            "bottom": null,
            "display": null,
            "flex": null,
            "flex_flow": null,
            "grid_area": null,
            "grid_auto_columns": null,
            "grid_auto_flow": null,
            "grid_auto_rows": null,
            "grid_column": null,
            "grid_gap": null,
            "grid_row": null,
            "grid_template_areas": null,
            "grid_template_columns": null,
            "grid_template_rows": null,
            "height": null,
            "justify_content": null,
            "justify_items": null,
            "left": null,
            "margin": null,
            "max_height": null,
            "max_width": null,
            "min_height": null,
            "min_width": null,
            "object_fit": null,
            "object_position": null,
            "order": null,
            "overflow": null,
            "overflow_x": null,
            "overflow_y": null,
            "padding": null,
            "right": null,
            "top": null,
            "visibility": null,
            "width": null
          }
        },
        "18e4bda6755d408f8425ad43a822d0a8": {
          "model_module": "@jupyter-widgets/controls",
          "model_name": "DescriptionStyleModel",
          "model_module_version": "1.5.0",
          "state": {
            "_model_module": "@jupyter-widgets/controls",
            "_model_module_version": "1.5.0",
            "_model_name": "DescriptionStyleModel",
            "_view_count": null,
            "_view_module": "@jupyter-widgets/base",
            "_view_module_version": "1.2.0",
            "_view_name": "StyleView",
            "description_width": ""
          }
        },
        "25695dbfc82346bb981e094511d73463": {
          "model_module": "@jupyter-widgets/base",
          "model_name": "LayoutModel",
          "model_module_version": "1.2.0",
          "state": {
            "_model_module": "@jupyter-widgets/base",
            "_model_module_version": "1.2.0",
            "_model_name": "LayoutModel",
            "_view_count": null,
            "_view_module": "@jupyter-widgets/base",
            "_view_module_version": "1.2.0",
            "_view_name": "LayoutView",
            "align_content": null,
            "align_items": null,
            "align_self": null,
            "border": null,
            "bottom": null,
            "display": null,
            "flex": null,
            "flex_flow": null,
            "grid_area": null,
            "grid_auto_columns": null,
            "grid_auto_flow": null,
            "grid_auto_rows": null,
            "grid_column": null,
            "grid_gap": null,
            "grid_row": null,
            "grid_template_areas": null,
            "grid_template_columns": null,
            "grid_template_rows": null,
            "height": null,
            "justify_content": null,
            "justify_items": null,
            "left": null,
            "margin": null,
            "max_height": null,
            "max_width": null,
            "min_height": null,
            "min_width": null,
            "object_fit": null,
            "object_position": null,
            "order": null,
            "overflow": null,
            "overflow_x": null,
            "overflow_y": null,
            "padding": null,
            "right": null,
            "top": null,
            "visibility": null,
            "width": null
          }
        },
        "68bdf3a2d64b405d9da025261049c74f": {
          "model_module": "@jupyter-widgets/controls",
          "model_name": "ProgressStyleModel",
          "model_module_version": "1.5.0",
          "state": {
            "_model_module": "@jupyter-widgets/controls",
            "_model_module_version": "1.5.0",
            "_model_name": "ProgressStyleModel",
            "_view_count": null,
            "_view_module": "@jupyter-widgets/base",
            "_view_module_version": "1.2.0",
            "_view_name": "StyleView",
            "bar_color": null,
            "description_width": ""
          }
        },
        "e87be72578b349b683ed3d6a6ac1f10b": {
          "model_module": "@jupyter-widgets/base",
          "model_name": "LayoutModel",
          "model_module_version": "1.2.0",
          "state": {
            "_model_module": "@jupyter-widgets/base",
            "_model_module_version": "1.2.0",
            "_model_name": "LayoutModel",
            "_view_count": null,
            "_view_module": "@jupyter-widgets/base",
            "_view_module_version": "1.2.0",
            "_view_name": "LayoutView",
            "align_content": null,
            "align_items": null,
            "align_self": null,
            "border": null,
            "bottom": null,
            "display": null,
            "flex": null,
            "flex_flow": null,
            "grid_area": null,
            "grid_auto_columns": null,
            "grid_auto_flow": null,
            "grid_auto_rows": null,
            "grid_column": null,
            "grid_gap": null,
            "grid_row": null,
            "grid_template_areas": null,
            "grid_template_columns": null,
            "grid_template_rows": null,
            "height": null,
            "justify_content": null,
            "justify_items": null,
            "left": null,
            "margin": null,
            "max_height": null,
            "max_width": null,
            "min_height": null,
            "min_width": null,
            "object_fit": null,
            "object_position": null,
            "order": null,
            "overflow": null,
            "overflow_x": null,
            "overflow_y": null,
            "padding": null,
            "right": null,
            "top": null,
            "visibility": null,
            "width": null
          }
        },
        "ea527fd501b64fcf85d652a639943d77": {
          "model_module": "@jupyter-widgets/controls",
          "model_name": "DescriptionStyleModel",
          "model_module_version": "1.5.0",
          "state": {
            "_model_module": "@jupyter-widgets/controls",
            "_model_module_version": "1.5.0",
            "_model_name": "DescriptionStyleModel",
            "_view_count": null,
            "_view_module": "@jupyter-widgets/base",
            "_view_module_version": "1.2.0",
            "_view_name": "StyleView",
            "description_width": ""
          }
        },
        "02b3a43a154d4f4bab6fd4a574a0d302": {
          "model_module": "@jupyter-widgets/controls",
          "model_name": "HBoxModel",
          "model_module_version": "1.5.0",
          "state": {
            "_dom_classes": [],
            "_model_module": "@jupyter-widgets/controls",
            "_model_module_version": "1.5.0",
            "_model_name": "HBoxModel",
            "_view_count": null,
            "_view_module": "@jupyter-widgets/controls",
            "_view_module_version": "1.5.0",
            "_view_name": "HBoxView",
            "box_style": "",
            "children": [
              "IPY_MODEL_dcc6017fcee34fa99bbd1e6a30fae508",
              "IPY_MODEL_568a17b0903c41f59f0039b5668d29e5",
              "IPY_MODEL_d86441e69751421b9908470d9a28096c"
            ],
            "layout": "IPY_MODEL_bdb67171051e4ff8bcac363eccd8f342"
          }
        },
        "dcc6017fcee34fa99bbd1e6a30fae508": {
          "model_module": "@jupyter-widgets/controls",
          "model_name": "HTMLModel",
          "model_module_version": "1.5.0",
          "state": {
            "_dom_classes": [],
            "_model_module": "@jupyter-widgets/controls",
            "_model_module_version": "1.5.0",
            "_model_name": "HTMLModel",
            "_view_count": null,
            "_view_module": "@jupyter-widgets/controls",
            "_view_module_version": "1.5.0",
            "_view_name": "HTMLView",
            "description": "",
            "description_tooltip": null,
            "layout": "IPY_MODEL_41af8a908c3243a3b99a24eb7e1a9566",
            "placeholder": "​",
            "style": "IPY_MODEL_99baaccb444e4e58b8428b5ad324a646",
            "value": "vocab.json: 100%"
          }
        },
        "568a17b0903c41f59f0039b5668d29e5": {
          "model_module": "@jupyter-widgets/controls",
          "model_name": "FloatProgressModel",
          "model_module_version": "1.5.0",
          "state": {
            "_dom_classes": [],
            "_model_module": "@jupyter-widgets/controls",
            "_model_module_version": "1.5.0",
            "_model_name": "FloatProgressModel",
            "_view_count": null,
            "_view_module": "@jupyter-widgets/controls",
            "_view_module_version": "1.5.0",
            "_view_name": "ProgressView",
            "bar_style": "success",
            "description": "",
            "description_tooltip": null,
            "layout": "IPY_MODEL_b3df2301319b4054b6a3d6c7068ed5b7",
            "max": 800662,
            "min": 0,
            "orientation": "horizontal",
            "style": "IPY_MODEL_b55dd674e592489abdd78df73ce55ce9",
            "value": 800662
          }
        },
        "d86441e69751421b9908470d9a28096c": {
          "model_module": "@jupyter-widgets/controls",
          "model_name": "HTMLModel",
          "model_module_version": "1.5.0",
          "state": {
            "_dom_classes": [],
            "_model_module": "@jupyter-widgets/controls",
            "_model_module_version": "1.5.0",
            "_model_name": "HTMLModel",
            "_view_count": null,
            "_view_module": "@jupyter-widgets/controls",
            "_view_module_version": "1.5.0",
            "_view_name": "HTMLView",
            "description": "",
            "description_tooltip": null,
            "layout": "IPY_MODEL_0d169870b43e4305b05deb439276f5b8",
            "placeholder": "​",
            "style": "IPY_MODEL_7335cc08c6944b3e9bd648e4746089cc",
            "value": " 801k/801k [00:00&lt;00:00, 2.71MB/s]"
          }
        },
        "bdb67171051e4ff8bcac363eccd8f342": {
          "model_module": "@jupyter-widgets/base",
          "model_name": "LayoutModel",
          "model_module_version": "1.2.0",
          "state": {
            "_model_module": "@jupyter-widgets/base",
            "_model_module_version": "1.2.0",
            "_model_name": "LayoutModel",
            "_view_count": null,
            "_view_module": "@jupyter-widgets/base",
            "_view_module_version": "1.2.0",
            "_view_name": "LayoutView",
            "align_content": null,
            "align_items": null,
            "align_self": null,
            "border": null,
            "bottom": null,
            "display": null,
            "flex": null,
            "flex_flow": null,
            "grid_area": null,
            "grid_auto_columns": null,
            "grid_auto_flow": null,
            "grid_auto_rows": null,
            "grid_column": null,
            "grid_gap": null,
            "grid_row": null,
            "grid_template_areas": null,
            "grid_template_columns": null,
            "grid_template_rows": null,
            "height": null,
            "justify_content": null,
            "justify_items": null,
            "left": null,
            "margin": null,
            "max_height": null,
            "max_width": null,
            "min_height": null,
            "min_width": null,
            "object_fit": null,
            "object_position": null,
            "order": null,
            "overflow": null,
            "overflow_x": null,
            "overflow_y": null,
            "padding": null,
            "right": null,
            "top": null,
            "visibility": null,
            "width": null
          }
        },
        "41af8a908c3243a3b99a24eb7e1a9566": {
          "model_module": "@jupyter-widgets/base",
          "model_name": "LayoutModel",
          "model_module_version": "1.2.0",
          "state": {
            "_model_module": "@jupyter-widgets/base",
            "_model_module_version": "1.2.0",
            "_model_name": "LayoutModel",
            "_view_count": null,
            "_view_module": "@jupyter-widgets/base",
            "_view_module_version": "1.2.0",
            "_view_name": "LayoutView",
            "align_content": null,
            "align_items": null,
            "align_self": null,
            "border": null,
            "bottom": null,
            "display": null,
            "flex": null,
            "flex_flow": null,
            "grid_area": null,
            "grid_auto_columns": null,
            "grid_auto_flow": null,
            "grid_auto_rows": null,
            "grid_column": null,
            "grid_gap": null,
            "grid_row": null,
            "grid_template_areas": null,
            "grid_template_columns": null,
            "grid_template_rows": null,
            "height": null,
            "justify_content": null,
            "justify_items": null,
            "left": null,
            "margin": null,
            "max_height": null,
            "max_width": null,
            "min_height": null,
            "min_width": null,
            "object_fit": null,
            "object_position": null,
            "order": null,
            "overflow": null,
            "overflow_x": null,
            "overflow_y": null,
            "padding": null,
            "right": null,
            "top": null,
            "visibility": null,
            "width": null
          }
        },
        "99baaccb444e4e58b8428b5ad324a646": {
          "model_module": "@jupyter-widgets/controls",
          "model_name": "DescriptionStyleModel",
          "model_module_version": "1.5.0",
          "state": {
            "_model_module": "@jupyter-widgets/controls",
            "_model_module_version": "1.5.0",
            "_model_name": "DescriptionStyleModel",
            "_view_count": null,
            "_view_module": "@jupyter-widgets/base",
            "_view_module_version": "1.2.0",
            "_view_name": "StyleView",
            "description_width": ""
          }
        },
        "b3df2301319b4054b6a3d6c7068ed5b7": {
          "model_module": "@jupyter-widgets/base",
          "model_name": "LayoutModel",
          "model_module_version": "1.2.0",
          "state": {
            "_model_module": "@jupyter-widgets/base",
            "_model_module_version": "1.2.0",
            "_model_name": "LayoutModel",
            "_view_count": null,
            "_view_module": "@jupyter-widgets/base",
            "_view_module_version": "1.2.0",
            "_view_name": "LayoutView",
            "align_content": null,
            "align_items": null,
            "align_self": null,
            "border": null,
            "bottom": null,
            "display": null,
            "flex": null,
            "flex_flow": null,
            "grid_area": null,
            "grid_auto_columns": null,
            "grid_auto_flow": null,
            "grid_auto_rows": null,
            "grid_column": null,
            "grid_gap": null,
            "grid_row": null,
            "grid_template_areas": null,
            "grid_template_columns": null,
            "grid_template_rows": null,
            "height": null,
            "justify_content": null,
            "justify_items": null,
            "left": null,
            "margin": null,
            "max_height": null,
            "max_width": null,
            "min_height": null,
            "min_width": null,
            "object_fit": null,
            "object_position": null,
            "order": null,
            "overflow": null,
            "overflow_x": null,
            "overflow_y": null,
            "padding": null,
            "right": null,
            "top": null,
            "visibility": null,
            "width": null
          }
        },
        "b55dd674e592489abdd78df73ce55ce9": {
          "model_module": "@jupyter-widgets/controls",
          "model_name": "ProgressStyleModel",
          "model_module_version": "1.5.0",
          "state": {
            "_model_module": "@jupyter-widgets/controls",
            "_model_module_version": "1.5.0",
            "_model_name": "ProgressStyleModel",
            "_view_count": null,
            "_view_module": "@jupyter-widgets/base",
            "_view_module_version": "1.2.0",
            "_view_name": "StyleView",
            "bar_color": null,
            "description_width": ""
          }
        },
        "0d169870b43e4305b05deb439276f5b8": {
          "model_module": "@jupyter-widgets/base",
          "model_name": "LayoutModel",
          "model_module_version": "1.2.0",
          "state": {
            "_model_module": "@jupyter-widgets/base",
            "_model_module_version": "1.2.0",
            "_model_name": "LayoutModel",
            "_view_count": null,
            "_view_module": "@jupyter-widgets/base",
            "_view_module_version": "1.2.0",
            "_view_name": "LayoutView",
            "align_content": null,
            "align_items": null,
            "align_self": null,
            "border": null,
            "bottom": null,
            "display": null,
            "flex": null,
            "flex_flow": null,
            "grid_area": null,
            "grid_auto_columns": null,
            "grid_auto_flow": null,
            "grid_auto_rows": null,
            "grid_column": null,
            "grid_gap": null,
            "grid_row": null,
            "grid_template_areas": null,
            "grid_template_columns": null,
            "grid_template_rows": null,
            "height": null,
            "justify_content": null,
            "justify_items": null,
            "left": null,
            "margin": null,
            "max_height": null,
            "max_width": null,
            "min_height": null,
            "min_width": null,
            "object_fit": null,
            "object_position": null,
            "order": null,
            "overflow": null,
            "overflow_x": null,
            "overflow_y": null,
            "padding": null,
            "right": null,
            "top": null,
            "visibility": null,
            "width": null
          }
        },
        "7335cc08c6944b3e9bd648e4746089cc": {
          "model_module": "@jupyter-widgets/controls",
          "model_name": "DescriptionStyleModel",
          "model_module_version": "1.5.0",
          "state": {
            "_model_module": "@jupyter-widgets/controls",
            "_model_module_version": "1.5.0",
            "_model_name": "DescriptionStyleModel",
            "_view_count": null,
            "_view_module": "@jupyter-widgets/base",
            "_view_module_version": "1.2.0",
            "_view_name": "StyleView",
            "description_width": ""
          }
        },
        "e5a349e53304424d8786b4ab3214e3e3": {
          "model_module": "@jupyter-widgets/controls",
          "model_name": "HBoxModel",
          "model_module_version": "1.5.0",
          "state": {
            "_dom_classes": [],
            "_model_module": "@jupyter-widgets/controls",
            "_model_module_version": "1.5.0",
            "_model_name": "HBoxModel",
            "_view_count": null,
            "_view_module": "@jupyter-widgets/controls",
            "_view_module_version": "1.5.0",
            "_view_name": "HBoxView",
            "box_style": "",
            "children": [
              "IPY_MODEL_f5a04917c8bd4c1da868f28ccb916ae9",
              "IPY_MODEL_869d5ab84e7e4af3b437111d4e0a9d8a",
              "IPY_MODEL_4c87d5cc2af64513a8c47cc7814e9766"
            ],
            "layout": "IPY_MODEL_98c9c4ef96c448d7ab0b72424a1b3790"
          }
        },
        "f5a04917c8bd4c1da868f28ccb916ae9": {
          "model_module": "@jupyter-widgets/controls",
          "model_name": "HTMLModel",
          "model_module_version": "1.5.0",
          "state": {
            "_dom_classes": [],
            "_model_module": "@jupyter-widgets/controls",
            "_model_module_version": "1.5.0",
            "_model_name": "HTMLModel",
            "_view_count": null,
            "_view_module": "@jupyter-widgets/controls",
            "_view_module_version": "1.5.0",
            "_view_name": "HTMLView",
            "description": "",
            "description_tooltip": null,
            "layout": "IPY_MODEL_17c9ef85bfd946448b0758b36e60daca",
            "placeholder": "​",
            "style": "IPY_MODEL_80658fb23fe6406aba58f3f84d917cf8",
            "value": "merges.txt: 100%"
          }
        },
        "869d5ab84e7e4af3b437111d4e0a9d8a": {
          "model_module": "@jupyter-widgets/controls",
          "model_name": "FloatProgressModel",
          "model_module_version": "1.5.0",
          "state": {
            "_dom_classes": [],
            "_model_module": "@jupyter-widgets/controls",
            "_model_module_version": "1.5.0",
            "_model_name": "FloatProgressModel",
            "_view_count": null,
            "_view_module": "@jupyter-widgets/controls",
            "_view_module_version": "1.5.0",
            "_view_name": "ProgressView",
            "bar_style": "success",
            "description": "",
            "description_tooltip": null,
            "layout": "IPY_MODEL_87619d5d73bc491b8090da6f3e630655",
            "max": 466391,
            "min": 0,
            "orientation": "horizontal",
            "style": "IPY_MODEL_3063b8ec5e7442daa3a23a3b3028923a",
            "value": 466391
          }
        },
        "4c87d5cc2af64513a8c47cc7814e9766": {
          "model_module": "@jupyter-widgets/controls",
          "model_name": "HTMLModel",
          "model_module_version": "1.5.0",
          "state": {
            "_dom_classes": [],
            "_model_module": "@jupyter-widgets/controls",
            "_model_module_version": "1.5.0",
            "_model_name": "HTMLModel",
            "_view_count": null,
            "_view_module": "@jupyter-widgets/controls",
            "_view_module_version": "1.5.0",
            "_view_name": "HTMLView",
            "description": "",
            "description_tooltip": null,
            "layout": "IPY_MODEL_d77a6112706a4437a00a57c7d01a507f",
            "placeholder": "​",
            "style": "IPY_MODEL_5dfad913ff2d4cf2bee2f879d2743842",
            "value": " 466k/466k [00:00&lt;00:00, 2.35MB/s]"
          }
        },
        "98c9c4ef96c448d7ab0b72424a1b3790": {
          "model_module": "@jupyter-widgets/base",
          "model_name": "LayoutModel",
          "model_module_version": "1.2.0",
          "state": {
            "_model_module": "@jupyter-widgets/base",
            "_model_module_version": "1.2.0",
            "_model_name": "LayoutModel",
            "_view_count": null,
            "_view_module": "@jupyter-widgets/base",
            "_view_module_version": "1.2.0",
            "_view_name": "LayoutView",
            "align_content": null,
            "align_items": null,
            "align_self": null,
            "border": null,
            "bottom": null,
            "display": null,
            "flex": null,
            "flex_flow": null,
            "grid_area": null,
            "grid_auto_columns": null,
            "grid_auto_flow": null,
            "grid_auto_rows": null,
            "grid_column": null,
            "grid_gap": null,
            "grid_row": null,
            "grid_template_areas": null,
            "grid_template_columns": null,
            "grid_template_rows": null,
            "height": null,
            "justify_content": null,
            "justify_items": null,
            "left": null,
            "margin": null,
            "max_height": null,
            "max_width": null,
            "min_height": null,
            "min_width": null,
            "object_fit": null,
            "object_position": null,
            "order": null,
            "overflow": null,
            "overflow_x": null,
            "overflow_y": null,
            "padding": null,
            "right": null,
            "top": null,
            "visibility": null,
            "width": null
          }
        },
        "17c9ef85bfd946448b0758b36e60daca": {
          "model_module": "@jupyter-widgets/base",
          "model_name": "LayoutModel",
          "model_module_version": "1.2.0",
          "state": {
            "_model_module": "@jupyter-widgets/base",
            "_model_module_version": "1.2.0",
            "_model_name": "LayoutModel",
            "_view_count": null,
            "_view_module": "@jupyter-widgets/base",
            "_view_module_version": "1.2.0",
            "_view_name": "LayoutView",
            "align_content": null,
            "align_items": null,
            "align_self": null,
            "border": null,
            "bottom": null,
            "display": null,
            "flex": null,
            "flex_flow": null,
            "grid_area": null,
            "grid_auto_columns": null,
            "grid_auto_flow": null,
            "grid_auto_rows": null,
            "grid_column": null,
            "grid_gap": null,
            "grid_row": null,
            "grid_template_areas": null,
            "grid_template_columns": null,
            "grid_template_rows": null,
            "height": null,
            "justify_content": null,
            "justify_items": null,
            "left": null,
            "margin": null,
            "max_height": null,
            "max_width": null,
            "min_height": null,
            "min_width": null,
            "object_fit": null,
            "object_position": null,
            "order": null,
            "overflow": null,
            "overflow_x": null,
            "overflow_y": null,
            "padding": null,
            "right": null,
            "top": null,
            "visibility": null,
            "width": null
          }
        },
        "80658fb23fe6406aba58f3f84d917cf8": {
          "model_module": "@jupyter-widgets/controls",
          "model_name": "DescriptionStyleModel",
          "model_module_version": "1.5.0",
          "state": {
            "_model_module": "@jupyter-widgets/controls",
            "_model_module_version": "1.5.0",
            "_model_name": "DescriptionStyleModel",
            "_view_count": null,
            "_view_module": "@jupyter-widgets/base",
            "_view_module_version": "1.2.0",
            "_view_name": "StyleView",
            "description_width": ""
          }
        },
        "87619d5d73bc491b8090da6f3e630655": {
          "model_module": "@jupyter-widgets/base",
          "model_name": "LayoutModel",
          "model_module_version": "1.2.0",
          "state": {
            "_model_module": "@jupyter-widgets/base",
            "_model_module_version": "1.2.0",
            "_model_name": "LayoutModel",
            "_view_count": null,
            "_view_module": "@jupyter-widgets/base",
            "_view_module_version": "1.2.0",
            "_view_name": "LayoutView",
            "align_content": null,
            "align_items": null,
            "align_self": null,
            "border": null,
            "bottom": null,
            "display": null,
            "flex": null,
            "flex_flow": null,
            "grid_area": null,
            "grid_auto_columns": null,
            "grid_auto_flow": null,
            "grid_auto_rows": null,
            "grid_column": null,
            "grid_gap": null,
            "grid_row": null,
            "grid_template_areas": null,
            "grid_template_columns": null,
            "grid_template_rows": null,
            "height": null,
            "justify_content": null,
            "justify_items": null,
            "left": null,
            "margin": null,
            "max_height": null,
            "max_width": null,
            "min_height": null,
            "min_width": null,
            "object_fit": null,
            "object_position": null,
            "order": null,
            "overflow": null,
            "overflow_x": null,
            "overflow_y": null,
            "padding": null,
            "right": null,
            "top": null,
            "visibility": null,
            "width": null
          }
        },
        "3063b8ec5e7442daa3a23a3b3028923a": {
          "model_module": "@jupyter-widgets/controls",
          "model_name": "ProgressStyleModel",
          "model_module_version": "1.5.0",
          "state": {
            "_model_module": "@jupyter-widgets/controls",
            "_model_module_version": "1.5.0",
            "_model_name": "ProgressStyleModel",
            "_view_count": null,
            "_view_module": "@jupyter-widgets/base",
            "_view_module_version": "1.2.0",
            "_view_name": "StyleView",
            "bar_color": null,
            "description_width": ""
          }
        },
        "d77a6112706a4437a00a57c7d01a507f": {
          "model_module": "@jupyter-widgets/base",
          "model_name": "LayoutModel",
          "model_module_version": "1.2.0",
          "state": {
            "_model_module": "@jupyter-widgets/base",
            "_model_module_version": "1.2.0",
            "_model_name": "LayoutModel",
            "_view_count": null,
            "_view_module": "@jupyter-widgets/base",
            "_view_module_version": "1.2.0",
            "_view_name": "LayoutView",
            "align_content": null,
            "align_items": null,
            "align_self": null,
            "border": null,
            "bottom": null,
            "display": null,
            "flex": null,
            "flex_flow": null,
            "grid_area": null,
            "grid_auto_columns": null,
            "grid_auto_flow": null,
            "grid_auto_rows": null,
            "grid_column": null,
            "grid_gap": null,
            "grid_row": null,
            "grid_template_areas": null,
            "grid_template_columns": null,
            "grid_template_rows": null,
            "height": null,
            "justify_content": null,
            "justify_items": null,
            "left": null,
            "margin": null,
            "max_height": null,
            "max_width": null,
            "min_height": null,
            "min_width": null,
            "object_fit": null,
            "object_position": null,
            "order": null,
            "overflow": null,
            "overflow_x": null,
            "overflow_y": null,
            "padding": null,
            "right": null,
            "top": null,
            "visibility": null,
            "width": null
          }
        },
        "5dfad913ff2d4cf2bee2f879d2743842": {
          "model_module": "@jupyter-widgets/controls",
          "model_name": "DescriptionStyleModel",
          "model_module_version": "1.5.0",
          "state": {
            "_model_module": "@jupyter-widgets/controls",
            "_model_module_version": "1.5.0",
            "_model_name": "DescriptionStyleModel",
            "_view_count": null,
            "_view_module": "@jupyter-widgets/base",
            "_view_module_version": "1.2.0",
            "_view_name": "StyleView",
            "description_width": ""
          }
        },
        "7648609ec80d456b896b2fe2cf2efbd6": {
          "model_module": "@jupyter-widgets/controls",
          "model_name": "HBoxModel",
          "model_module_version": "1.5.0",
          "state": {
            "_dom_classes": [],
            "_model_module": "@jupyter-widgets/controls",
            "_model_module_version": "1.5.0",
            "_model_name": "HBoxModel",
            "_view_count": null,
            "_view_module": "@jupyter-widgets/controls",
            "_view_module_version": "1.5.0",
            "_view_name": "HBoxView",
            "box_style": "",
            "children": [
              "IPY_MODEL_98c9a045d66547cb90559f2c836f266f",
              "IPY_MODEL_d262a1cafd2a43638623c5967f553a58",
              "IPY_MODEL_a8e6e3bd81544ff3a601d3574b8ff695"
            ],
            "layout": "IPY_MODEL_e0742d70366a45019001af61d23e892d"
          }
        },
        "98c9a045d66547cb90559f2c836f266f": {
          "model_module": "@jupyter-widgets/controls",
          "model_name": "HTMLModel",
          "model_module_version": "1.5.0",
          "state": {
            "_dom_classes": [],
            "_model_module": "@jupyter-widgets/controls",
            "_model_module_version": "1.5.0",
            "_model_name": "HTMLModel",
            "_view_count": null,
            "_view_module": "@jupyter-widgets/controls",
            "_view_module_version": "1.5.0",
            "_view_name": "HTMLView",
            "description": "",
            "description_tooltip": null,
            "layout": "IPY_MODEL_d87112c2d6d445bca15fbc079dd15bd8",
            "placeholder": "​",
            "style": "IPY_MODEL_24ced9e743d3442abb3123b4f4e5df25",
            "value": "tokenizer.json: 100%"
          }
        },
        "d262a1cafd2a43638623c5967f553a58": {
          "model_module": "@jupyter-widgets/controls",
          "model_name": "FloatProgressModel",
          "model_module_version": "1.5.0",
          "state": {
            "_dom_classes": [],
            "_model_module": "@jupyter-widgets/controls",
            "_model_module_version": "1.5.0",
            "_model_name": "FloatProgressModel",
            "_view_count": null,
            "_view_module": "@jupyter-widgets/controls",
            "_view_module_version": "1.5.0",
            "_view_name": "ProgressView",
            "bar_style": "success",
            "description": "",
            "description_tooltip": null,
            "layout": "IPY_MODEL_3c02f42b704c4f089644f510fad609e5",
            "max": 2104556,
            "min": 0,
            "orientation": "horizontal",
            "style": "IPY_MODEL_7e06fd69920849558f39cb0e60e34510",
            "value": 2104556
          }
        },
        "a8e6e3bd81544ff3a601d3574b8ff695": {
          "model_module": "@jupyter-widgets/controls",
          "model_name": "HTMLModel",
          "model_module_version": "1.5.0",
          "state": {
            "_dom_classes": [],
            "_model_module": "@jupyter-widgets/controls",
            "_model_module_version": "1.5.0",
            "_model_name": "HTMLModel",
            "_view_count": null,
            "_view_module": "@jupyter-widgets/controls",
            "_view_module_version": "1.5.0",
            "_view_name": "HTMLView",
            "description": "",
            "description_tooltip": null,
            "layout": "IPY_MODEL_a96b13dbef334133b83aaca220f577ba",
            "placeholder": "​",
            "style": "IPY_MODEL_8a7bf27806214c1693f347e49d084af4",
            "value": " 2.10M/2.10M [00:00&lt;00:00, 16.7MB/s]"
          }
        },
        "e0742d70366a45019001af61d23e892d": {
          "model_module": "@jupyter-widgets/base",
          "model_name": "LayoutModel",
          "model_module_version": "1.2.0",
          "state": {
            "_model_module": "@jupyter-widgets/base",
            "_model_module_version": "1.2.0",
            "_model_name": "LayoutModel",
            "_view_count": null,
            "_view_module": "@jupyter-widgets/base",
            "_view_module_version": "1.2.0",
            "_view_name": "LayoutView",
            "align_content": null,
            "align_items": null,
            "align_self": null,
            "border": null,
            "bottom": null,
            "display": null,
            "flex": null,
            "flex_flow": null,
            "grid_area": null,
            "grid_auto_columns": null,
            "grid_auto_flow": null,
            "grid_auto_rows": null,
            "grid_column": null,
            "grid_gap": null,
            "grid_row": null,
            "grid_template_areas": null,
            "grid_template_columns": null,
            "grid_template_rows": null,
            "height": null,
            "justify_content": null,
            "justify_items": null,
            "left": null,
            "margin": null,
            "max_height": null,
            "max_width": null,
            "min_height": null,
            "min_width": null,
            "object_fit": null,
            "object_position": null,
            "order": null,
            "overflow": null,
            "overflow_x": null,
            "overflow_y": null,
            "padding": null,
            "right": null,
            "top": null,
            "visibility": null,
            "width": null
          }
        },
        "d87112c2d6d445bca15fbc079dd15bd8": {
          "model_module": "@jupyter-widgets/base",
          "model_name": "LayoutModel",
          "model_module_version": "1.2.0",
          "state": {
            "_model_module": "@jupyter-widgets/base",
            "_model_module_version": "1.2.0",
            "_model_name": "LayoutModel",
            "_view_count": null,
            "_view_module": "@jupyter-widgets/base",
            "_view_module_version": "1.2.0",
            "_view_name": "LayoutView",
            "align_content": null,
            "align_items": null,
            "align_self": null,
            "border": null,
            "bottom": null,
            "display": null,
            "flex": null,
            "flex_flow": null,
            "grid_area": null,
            "grid_auto_columns": null,
            "grid_auto_flow": null,
            "grid_auto_rows": null,
            "grid_column": null,
            "grid_gap": null,
            "grid_row": null,
            "grid_template_areas": null,
            "grid_template_columns": null,
            "grid_template_rows": null,
            "height": null,
            "justify_content": null,
            "justify_items": null,
            "left": null,
            "margin": null,
            "max_height": null,
            "max_width": null,
            "min_height": null,
            "min_width": null,
            "object_fit": null,
            "object_position": null,
            "order": null,
            "overflow": null,
            "overflow_x": null,
            "overflow_y": null,
            "padding": null,
            "right": null,
            "top": null,
            "visibility": null,
            "width": null
          }
        },
        "24ced9e743d3442abb3123b4f4e5df25": {
          "model_module": "@jupyter-widgets/controls",
          "model_name": "DescriptionStyleModel",
          "model_module_version": "1.5.0",
          "state": {
            "_model_module": "@jupyter-widgets/controls",
            "_model_module_version": "1.5.0",
            "_model_name": "DescriptionStyleModel",
            "_view_count": null,
            "_view_module": "@jupyter-widgets/base",
            "_view_module_version": "1.2.0",
            "_view_name": "StyleView",
            "description_width": ""
          }
        },
        "3c02f42b704c4f089644f510fad609e5": {
          "model_module": "@jupyter-widgets/base",
          "model_name": "LayoutModel",
          "model_module_version": "1.2.0",
          "state": {
            "_model_module": "@jupyter-widgets/base",
            "_model_module_version": "1.2.0",
            "_model_name": "LayoutModel",
            "_view_count": null,
            "_view_module": "@jupyter-widgets/base",
            "_view_module_version": "1.2.0",
            "_view_name": "LayoutView",
            "align_content": null,
            "align_items": null,
            "align_self": null,
            "border": null,
            "bottom": null,
            "display": null,
            "flex": null,
            "flex_flow": null,
            "grid_area": null,
            "grid_auto_columns": null,
            "grid_auto_flow": null,
            "grid_auto_rows": null,
            "grid_column": null,
            "grid_gap": null,
            "grid_row": null,
            "grid_template_areas": null,
            "grid_template_columns": null,
            "grid_template_rows": null,
            "height": null,
            "justify_content": null,
            "justify_items": null,
            "left": null,
            "margin": null,
            "max_height": null,
            "max_width": null,
            "min_height": null,
            "min_width": null,
            "object_fit": null,
            "object_position": null,
            "order": null,
            "overflow": null,
            "overflow_x": null,
            "overflow_y": null,
            "padding": null,
            "right": null,
            "top": null,
            "visibility": null,
            "width": null
          }
        },
        "7e06fd69920849558f39cb0e60e34510": {
          "model_module": "@jupyter-widgets/controls",
          "model_name": "ProgressStyleModel",
          "model_module_version": "1.5.0",
          "state": {
            "_model_module": "@jupyter-widgets/controls",
            "_model_module_version": "1.5.0",
            "_model_name": "ProgressStyleModel",
            "_view_count": null,
            "_view_module": "@jupyter-widgets/base",
            "_view_module_version": "1.2.0",
            "_view_name": "StyleView",
            "bar_color": null,
            "description_width": ""
          }
        },
        "a96b13dbef334133b83aaca220f577ba": {
          "model_module": "@jupyter-widgets/base",
          "model_name": "LayoutModel",
          "model_module_version": "1.2.0",
          "state": {
            "_model_module": "@jupyter-widgets/base",
            "_model_module_version": "1.2.0",
            "_model_name": "LayoutModel",
            "_view_count": null,
            "_view_module": "@jupyter-widgets/base",
            "_view_module_version": "1.2.0",
            "_view_name": "LayoutView",
            "align_content": null,
            "align_items": null,
            "align_self": null,
            "border": null,
            "bottom": null,
            "display": null,
            "flex": null,
            "flex_flow": null,
            "grid_area": null,
            "grid_auto_columns": null,
            "grid_auto_flow": null,
            "grid_auto_rows": null,
            "grid_column": null,
            "grid_gap": null,
            "grid_row": null,
            "grid_template_areas": null,
            "grid_template_columns": null,
            "grid_template_rows": null,
            "height": null,
            "justify_content": null,
            "justify_items": null,
            "left": null,
            "margin": null,
            "max_height": null,
            "max_width": null,
            "min_height": null,
            "min_width": null,
            "object_fit": null,
            "object_position": null,
            "order": null,
            "overflow": null,
            "overflow_x": null,
            "overflow_y": null,
            "padding": null,
            "right": null,
            "top": null,
            "visibility": null,
            "width": null
          }
        },
        "8a7bf27806214c1693f347e49d084af4": {
          "model_module": "@jupyter-widgets/controls",
          "model_name": "DescriptionStyleModel",
          "model_module_version": "1.5.0",
          "state": {
            "_model_module": "@jupyter-widgets/controls",
            "_model_module_version": "1.5.0",
            "_model_name": "DescriptionStyleModel",
            "_view_count": null,
            "_view_module": "@jupyter-widgets/base",
            "_view_module_version": "1.2.0",
            "_view_name": "StyleView",
            "description_width": ""
          }
        },
        "7c4d483b68824ba6b13a52a70377ca70": {
          "model_module": "@jupyter-widgets/controls",
          "model_name": "HBoxModel",
          "model_module_version": "1.5.0",
          "state": {
            "_dom_classes": [],
            "_model_module": "@jupyter-widgets/controls",
            "_model_module_version": "1.5.0",
            "_model_name": "HBoxModel",
            "_view_count": null,
            "_view_module": "@jupyter-widgets/controls",
            "_view_module_version": "1.5.0",
            "_view_name": "HBoxView",
            "box_style": "",
            "children": [
              "IPY_MODEL_fa7c48e1ddca4bd4bc96d9fdbfa3e59a",
              "IPY_MODEL_4f320fa6766e43d1967ca186bcde6f40",
              "IPY_MODEL_41ec4551f3ca428683fd6b3396b564d9"
            ],
            "layout": "IPY_MODEL_1a713c729ceb403a900871a84a540d60"
          }
        },
        "fa7c48e1ddca4bd4bc96d9fdbfa3e59a": {
          "model_module": "@jupyter-widgets/controls",
          "model_name": "HTMLModel",
          "model_module_version": "1.5.0",
          "state": {
            "_dom_classes": [],
            "_model_module": "@jupyter-widgets/controls",
            "_model_module_version": "1.5.0",
            "_model_name": "HTMLModel",
            "_view_count": null,
            "_view_module": "@jupyter-widgets/controls",
            "_view_module_version": "1.5.0",
            "_view_name": "HTMLView",
            "description": "",
            "description_tooltip": null,
            "layout": "IPY_MODEL_d756817910534e9289c8f1a2d4fc65be",
            "placeholder": "​",
            "style": "IPY_MODEL_5950a7ce4038419c9ff4338f0db85db6",
            "value": "special_tokens_map.json: 100%"
          }
        },
        "4f320fa6766e43d1967ca186bcde6f40": {
          "model_module": "@jupyter-widgets/controls",
          "model_name": "FloatProgressModel",
          "model_module_version": "1.5.0",
          "state": {
            "_dom_classes": [],
            "_model_module": "@jupyter-widgets/controls",
            "_model_module_version": "1.5.0",
            "_model_name": "FloatProgressModel",
            "_view_count": null,
            "_view_module": "@jupyter-widgets/controls",
            "_view_module_version": "1.5.0",
            "_view_name": "ProgressView",
            "bar_style": "success",
            "description": "",
            "description_tooltip": null,
            "layout": "IPY_MODEL_f2bd5dc43bcb401dbf79cff67edccb3e",
            "max": 831,
            "min": 0,
            "orientation": "horizontal",
            "style": "IPY_MODEL_90866171402e428694b3eefd2e72c8d6",
            "value": 831
          }
        },
        "41ec4551f3ca428683fd6b3396b564d9": {
          "model_module": "@jupyter-widgets/controls",
          "model_name": "HTMLModel",
          "model_module_version": "1.5.0",
          "state": {
            "_dom_classes": [],
            "_model_module": "@jupyter-widgets/controls",
            "_model_module_version": "1.5.0",
            "_model_name": "HTMLModel",
            "_view_count": null,
            "_view_module": "@jupyter-widgets/controls",
            "_view_module_version": "1.5.0",
            "_view_name": "HTMLView",
            "description": "",
            "description_tooltip": null,
            "layout": "IPY_MODEL_1e0b67f48c2d45f5a56eaace07267ca8",
            "placeholder": "​",
            "style": "IPY_MODEL_ab73a955b71447e98b6edcd12962441b",
            "value": " 831/831 [00:00&lt;00:00, 49.3kB/s]"
          }
        },
        "1a713c729ceb403a900871a84a540d60": {
          "model_module": "@jupyter-widgets/base",
          "model_name": "LayoutModel",
          "model_module_version": "1.2.0",
          "state": {
            "_model_module": "@jupyter-widgets/base",
            "_model_module_version": "1.2.0",
            "_model_name": "LayoutModel",
            "_view_count": null,
            "_view_module": "@jupyter-widgets/base",
            "_view_module_version": "1.2.0",
            "_view_name": "LayoutView",
            "align_content": null,
            "align_items": null,
            "align_self": null,
            "border": null,
            "bottom": null,
            "display": null,
            "flex": null,
            "flex_flow": null,
            "grid_area": null,
            "grid_auto_columns": null,
            "grid_auto_flow": null,
            "grid_auto_rows": null,
            "grid_column": null,
            "grid_gap": null,
            "grid_row": null,
            "grid_template_areas": null,
            "grid_template_columns": null,
            "grid_template_rows": null,
            "height": null,
            "justify_content": null,
            "justify_items": null,
            "left": null,
            "margin": null,
            "max_height": null,
            "max_width": null,
            "min_height": null,
            "min_width": null,
            "object_fit": null,
            "object_position": null,
            "order": null,
            "overflow": null,
            "overflow_x": null,
            "overflow_y": null,
            "padding": null,
            "right": null,
            "top": null,
            "visibility": null,
            "width": null
          }
        },
        "d756817910534e9289c8f1a2d4fc65be": {
          "model_module": "@jupyter-widgets/base",
          "model_name": "LayoutModel",
          "model_module_version": "1.2.0",
          "state": {
            "_model_module": "@jupyter-widgets/base",
            "_model_module_version": "1.2.0",
            "_model_name": "LayoutModel",
            "_view_count": null,
            "_view_module": "@jupyter-widgets/base",
            "_view_module_version": "1.2.0",
            "_view_name": "LayoutView",
            "align_content": null,
            "align_items": null,
            "align_self": null,
            "border": null,
            "bottom": null,
            "display": null,
            "flex": null,
            "flex_flow": null,
            "grid_area": null,
            "grid_auto_columns": null,
            "grid_auto_flow": null,
            "grid_auto_rows": null,
            "grid_column": null,
            "grid_gap": null,
            "grid_row": null,
            "grid_template_areas": null,
            "grid_template_columns": null,
            "grid_template_rows": null,
            "height": null,
            "justify_content": null,
            "justify_items": null,
            "left": null,
            "margin": null,
            "max_height": null,
            "max_width": null,
            "min_height": null,
            "min_width": null,
            "object_fit": null,
            "object_position": null,
            "order": null,
            "overflow": null,
            "overflow_x": null,
            "overflow_y": null,
            "padding": null,
            "right": null,
            "top": null,
            "visibility": null,
            "width": null
          }
        },
        "5950a7ce4038419c9ff4338f0db85db6": {
          "model_module": "@jupyter-widgets/controls",
          "model_name": "DescriptionStyleModel",
          "model_module_version": "1.5.0",
          "state": {
            "_model_module": "@jupyter-widgets/controls",
            "_model_module_version": "1.5.0",
            "_model_name": "DescriptionStyleModel",
            "_view_count": null,
            "_view_module": "@jupyter-widgets/base",
            "_view_module_version": "1.2.0",
            "_view_name": "StyleView",
            "description_width": ""
          }
        },
        "f2bd5dc43bcb401dbf79cff67edccb3e": {
          "model_module": "@jupyter-widgets/base",
          "model_name": "LayoutModel",
          "model_module_version": "1.2.0",
          "state": {
            "_model_module": "@jupyter-widgets/base",
            "_model_module_version": "1.2.0",
            "_model_name": "LayoutModel",
            "_view_count": null,
            "_view_module": "@jupyter-widgets/base",
            "_view_module_version": "1.2.0",
            "_view_name": "LayoutView",
            "align_content": null,
            "align_items": null,
            "align_self": null,
            "border": null,
            "bottom": null,
            "display": null,
            "flex": null,
            "flex_flow": null,
            "grid_area": null,
            "grid_auto_columns": null,
            "grid_auto_flow": null,
            "grid_auto_rows": null,
            "grid_column": null,
            "grid_gap": null,
            "grid_row": null,
            "grid_template_areas": null,
            "grid_template_columns": null,
            "grid_template_rows": null,
            "height": null,
            "justify_content": null,
            "justify_items": null,
            "left": null,
            "margin": null,
            "max_height": null,
            "max_width": null,
            "min_height": null,
            "min_width": null,
            "object_fit": null,
            "object_position": null,
            "order": null,
            "overflow": null,
            "overflow_x": null,
            "overflow_y": null,
            "padding": null,
            "right": null,
            "top": null,
            "visibility": null,
            "width": null
          }
        },
        "90866171402e428694b3eefd2e72c8d6": {
          "model_module": "@jupyter-widgets/controls",
          "model_name": "ProgressStyleModel",
          "model_module_version": "1.5.0",
          "state": {
            "_model_module": "@jupyter-widgets/controls",
            "_model_module_version": "1.5.0",
            "_model_name": "ProgressStyleModel",
            "_view_count": null,
            "_view_module": "@jupyter-widgets/base",
            "_view_module_version": "1.2.0",
            "_view_name": "StyleView",
            "bar_color": null,
            "description_width": ""
          }
        },
        "1e0b67f48c2d45f5a56eaace07267ca8": {
          "model_module": "@jupyter-widgets/base",
          "model_name": "LayoutModel",
          "model_module_version": "1.2.0",
          "state": {
            "_model_module": "@jupyter-widgets/base",
            "_model_module_version": "1.2.0",
            "_model_name": "LayoutModel",
            "_view_count": null,
            "_view_module": "@jupyter-widgets/base",
            "_view_module_version": "1.2.0",
            "_view_name": "LayoutView",
            "align_content": null,
            "align_items": null,
            "align_self": null,
            "border": null,
            "bottom": null,
            "display": null,
            "flex": null,
            "flex_flow": null,
            "grid_area": null,
            "grid_auto_columns": null,
            "grid_auto_flow": null,
            "grid_auto_rows": null,
            "grid_column": null,
            "grid_gap": null,
            "grid_row": null,
            "grid_template_areas": null,
            "grid_template_columns": null,
            "grid_template_rows": null,
            "height": null,
            "justify_content": null,
            "justify_items": null,
            "left": null,
            "margin": null,
            "max_height": null,
            "max_width": null,
            "min_height": null,
            "min_width": null,
            "object_fit": null,
            "object_position": null,
            "order": null,
            "overflow": null,
            "overflow_x": null,
            "overflow_y": null,
            "padding": null,
            "right": null,
            "top": null,
            "visibility": null,
            "width": null
          }
        },
        "ab73a955b71447e98b6edcd12962441b": {
          "model_module": "@jupyter-widgets/controls",
          "model_name": "DescriptionStyleModel",
          "model_module_version": "1.5.0",
          "state": {
            "_model_module": "@jupyter-widgets/controls",
            "_model_module_version": "1.5.0",
            "_model_name": "DescriptionStyleModel",
            "_view_count": null,
            "_view_module": "@jupyter-widgets/base",
            "_view_module_version": "1.2.0",
            "_view_name": "StyleView",
            "description_width": ""
          }
        }
      }
    }
  },
  "cells": [
    {
      "cell_type": "markdown",
      "source": [
        "# Dependências"
      ],
      "metadata": {
        "id": "GOt4OZdUJcJs"
      }
    },
    {
      "cell_type": "code",
      "source": [
        "from google.colab import drive\n",
        "drive.mount('/content/drive/', force_remount=True)"
      ],
      "metadata": {
        "colab": {
          "base_uri": "https://localhost:8080/"
        },
        "id": "OUZMrtdTG8gl",
        "outputId": "d0a2e675-6845-4fb3-d2cf-893b67a4869b"
      },
      "execution_count": 22,
      "outputs": [
        {
          "output_type": "stream",
          "name": "stdout",
          "text": [
            "Mounted at /content/drive/\n"
          ]
        }
      ]
    },
    {
      "cell_type": "code",
      "source": [
        "import sys\n",
        "\n",
        "sys.path.append('/content/drive/MyDrive/Colab Notebooks/Minicurso SBRC')  # Path to your folder"
      ],
      "metadata": {
        "id": "TPGZbgqcLHZQ"
      },
      "execution_count": 23,
      "outputs": []
    },
    {
      "cell_type": "code",
      "source": [
        "!pip install -q transformers sentencepiece evaluate \"flwr[simulation]\" trl bitsandbytes"
      ],
      "metadata": {
        "id": "bIJxtTTPmA3i"
      },
      "execution_count": 24,
      "outputs": []
    },
    {
      "cell_type": "code",
      "source": [
        "!export WANDB_DISABLED=true"
      ],
      "metadata": {
        "id": "n6dhHIItmOUx"
      },
      "execution_count": 25,
      "outputs": []
    },
    {
      "cell_type": "markdown",
      "source": [
        "# Configuração"
      ],
      "metadata": {
        "id": "eUgN3WNbFm64"
      }
    },
    {
      "cell_type": "markdown",
      "source": [
        "# Download e preparação do dataset"
      ],
      "metadata": {
        "id": "d4aOuc5W16z7"
      }
    },
    {
      "cell_type": "markdown",
      "source": [
        "- Crie uma pasta dataset no seu drive.\n",
        "- Copie o conteúdo do diretório compartilhado para a pasta criada:\n",
        "    - [Link para o drive](https://drive.google.com/drive/folders/1PMvFY9qhADKM5RnN2PdD8muQKeu3urSt?usp=sharing)"
      ],
      "metadata": {
        "id": "ZNoNLkMDNARb"
      }
    },
    {
      "cell_type": "markdown",
      "source": [
        "# Importações"
      ],
      "metadata": {
        "id": "DUkgSEzxAwVN"
      }
    },
    {
      "cell_type": "code",
      "source": [
        "from flwr.common import Context\n",
        "from flwr.server import ServerConfig\n",
        "import torch\n",
        "import os\n",
        "import json\n",
        "from datasets import Dataset\n",
        "from flwr.client import NumPyClient, ClientApp\n",
        "from flwr.common import ndarrays_to_parameters\n",
        "from flwr.server import ServerAppComponents, ServerApp\n",
        "from flwr.server.strategy import FedAvg\n",
        "from flwr.simulation import run_simulation\n",
        "\n",
        "from utils import FitConfigFactory, get_evaluate_fn\n",
        "from utils import set_parameters, cosine_learning_rate, TraningConfigBuilder, TrainerBuilder, get_parameters, \\\n",
        "    ModelBuilder, get_tokenizer"
      ],
      "metadata": {
        "id": "A5fDBI5pAyZV"
      },
      "execution_count": 26,
      "outputs": []
    },
    {
      "cell_type": "markdown",
      "source": [
        "# Variáveis de configuração da simulação"
      ],
      "metadata": {
        "id": "efJfaEn9PQF0"
      }
    },
    {
      "cell_type": "code",
      "source": [
        "#paths\n",
        "testset_path = \"/content/drive/MyDrive/Colab Notebooks/Minicurso SBRC/dataset/test.csv\"\n",
        "results_path = \"/content/drive/MyDrive/Colab Notebooks/Minicurso SBRC/results\"\n",
        "dataset_path = \"/content/drive/MyDrive/Colab Notebooks/Minicurso SBRC/dataset\"\n",
        "\n",
        "#model\n",
        "model_name = \"HuggingFaceTB/SmolLM-135M\"\n",
        "lora_rank = 8\n",
        "lora = True\n",
        "initial_lr = 1e-3\n",
        "min_lr = 1e-5\n",
        "\n",
        "#training\n",
        "num_supernodes = 5\n",
        "num_rounds = 2\n",
        "fraction_fit = 0.4\n",
        "fraction_eval = 0.0\n",
        "\n",
        "train_context_dict = {\n",
        "    \"num-rounds\": num_rounds,\n",
        "    \"initial-lr\": initial_lr,\n",
        "    \"min-lr\": min_lr,\n",
        "    \"dataset-path\": dataset_path,\n",
        "    \"results-path\": results_path,\n",
        "    \"model-name\": model_name,\n",
        "    \"lora\": lora\n",
        "}\n",
        "\n",
        "#eval\n",
        "experiment_name = \"experimento_sbrc\"\n",
        "\n",
        "eval_context_dict = {\n",
        "  \"model-name\": model_name,\n",
        "  \"lora-rank\": lora_rank,\n",
        "  \"lora\": lora,\n",
        "  \"testset-path\": testset_path,\n",
        "  \"results-path\": results_path,\n",
        "  \"nrows\": None,\n",
        "  \"experiment-name\": experiment_name\n",
        "}"
      ],
      "metadata": {
        "id": "0NQf8oU6Xr3y"
      },
      "execution_count": 27,
      "outputs": []
    },
    {
      "cell_type": "code",
      "source": [
        "if torch.cuda.is_available():\n",
        "  device = torch.device(\"cuda\")\n",
        "  os.environ[\"CUDA_VISIBLE_DEVICES\"] = \"0\"\n",
        "  torch.cuda.empty_cache()\n",
        "else:\n",
        "  device = torch.device(\"cpu\")"
      ],
      "metadata": {
        "id": "gUpSYG1PPpq4"
      },
      "execution_count": 28,
      "outputs": []
    },
    {
      "cell_type": "markdown",
      "source": [
        "# Client"
      ],
      "metadata": {
        "id": "G8z4AlkxZXUF"
      }
    },
    {
      "cell_type": "code",
      "source": [
        "class LLMClient(NumPyClient):\n",
        "    def __init__(self, cid, model, tokenizer) -> None:\n",
        "        super().__init__()\n",
        "\n",
        "        self.cid = cid\n",
        "        self.model = model\n",
        "        self.tokenizer = tokenizer\n",
        "\n",
        "    def fit(self, parameters, config):\n",
        "        current_round = config[\"current_round\"]\n",
        "        total_rounds = config[\"num_rounds\"]\n",
        "        initial_lr = config[\"initial_lr\"]\n",
        "        min_lr = config[\"min_lr\"]\n",
        "        dataset_path = config[\"dataset_path\"]\n",
        "        results_path = config[\"results_path\"]\n",
        "        model_name = config[\"model_name\"].lower()\n",
        "        sim_name = \"experimento_sbrc\"\n",
        "        lora = config[\"lora\"]\n",
        "\n",
        "        # Obtém dataset do cliente\n",
        "        client_dataset = Dataset.load_from_disk(f\"{dataset_path}/client_{self.cid}\")\n",
        "        # Obtém o modelo a ser treinado\n",
        "        set_parameters(self.model, parameters, lora)\n",
        "        self.model.to(device)\n",
        "\n",
        "        # Configuração do treinamento\n",
        "        # Calcula a nova taxa de aprendizado\n",
        "        new_lr = cosine_learning_rate(current_round=current_round,\n",
        "                                      total_rounds=total_rounds,\n",
        "                                      initial_lr=initial_lr,\n",
        "                                      min_lr=min_lr)\n",
        "        # Cria a configuração do treinamento\n",
        "        training_args = TraningConfigBuilder().with_output_dir(results_path).with_logging_dir(\n",
        "            results_path).with_learning_rate(new_lr).build()\n",
        "\n",
        "        # Cria objeto responsável por treinar o modelo\n",
        "        trainer = TrainerBuilder().with_cid(self.cid).with_model(self.model).with_args(\n",
        "            training_args).with_train_dataset(client_dataset).with_tokenizer(\n",
        "            self.tokenizer).with_eval_dataset(client_dataset).with_model_name(model_name).build()\n",
        "\n",
        "        # Realiza treinamento\n",
        "        print(f\"Rodada {current_round}: Treinando Cliente {self.cid} com lr {new_lr}\")\n",
        "\n",
        "        trainer.train()\n",
        "\n",
        "        parameters = get_parameters(self.model, lora)\n",
        "        dataset_size = len(client_dataset['labels'])\n",
        "\n",
        "        print(f\"Rodada {current_round}: Cliente {self.cid} treinou\")\n",
        "\n",
        "        # Save losses\n",
        "        output_dir = f\"{results_path}/fl-results/{sim_name}/round_{current_round}/client_{self.cid}\"\n",
        "        os.makedirs(output_dir, exist_ok=True)\n",
        "\n",
        "        with open(f\"{output_dir}/training_losses.json\", \"w\") as f:\n",
        "            json.dump(trainer.train_losses, f)\n",
        "\n",
        "        with open(f\"{output_dir}/validation_losses.json\", \"w\") as f:\n",
        "            json.dump(trainer.validation_losses, f)\n",
        "\n",
        "        return parameters, dataset_size, {}\n",
        "\n",
        "\n",
        "def client_fn(context: Context):\n",
        "    \"\"\"Returns a FlowerClient containing its data partition.\"\"\"\n",
        "\n",
        "    initial_model = ModelBuilder().with_model_name(model_name).enable_lora(lora).with_lora_rank(lora_rank).build()\n",
        "    tokenizer = get_tokenizer(model_name)\n",
        "\n",
        "    cid = int(context.node_config[\"partition-id\"])\n",
        "\n",
        "    return LLMClient(cid, initial_model, tokenizer).to_client()\n"
      ],
      "metadata": {
        "id": "45Q2fr94ZZDD"
      },
      "execution_count": 29,
      "outputs": []
    },
    {
      "cell_type": "markdown",
      "source": [
        "# Servidor"
      ],
      "metadata": {
        "id": "dShI7cDaZZgE"
      }
    },
    {
      "cell_type": "code",
      "source": [
        "def server_fn(context: Context):\n",
        "    # Objeto callable para criar configuração do cliente\n",
        "    on_fit_config_fn = FitConfigFactory(train_context_dict)\n",
        "\n",
        "    # Construção do modelo global\n",
        "    global_model = ModelBuilder().with_model_name(model_name).enable_lora(lora).with_lora_rank(lora_rank).build()\n",
        "\n",
        "    # 1 - Entender a inicialização realizada pelo notebook do allan\n",
        "    # 2 - Entender a manipulação de parâmetros realizada por ela\n",
        "    initial_ndarrays = get_parameters(global_model, lora)\n",
        "    initial_parameters = ndarrays_to_parameters(initial_ndarrays)\n",
        "    evaluate_fn = get_evaluate_fn(eval_context_dict, device)\n",
        "\n",
        "    # 1 - próximo passo é usar uma injeção de dependências na inversão de contexto.\n",
        "    strategy = FedAvg(initial_parameters=initial_parameters, fraction_fit=fraction_fit, fraction_evaluate=fraction_eval,\n",
        "                      on_fit_config_fn=on_fit_config_fn, evaluate_fn=evaluate_fn)\n",
        "\n",
        "    # Construct ServerConfig\n",
        "    config = ServerConfig(num_rounds=num_rounds)\n",
        "\n",
        "    # Wrap everything into a `ServerAppComponents` object\n",
        "    return ServerAppComponents(strategy=strategy, config=config)"
      ],
      "metadata": {
        "id": "Ibcclqe5ZcK4"
      },
      "execution_count": 30,
      "outputs": []
    },
    {
      "cell_type": "markdown",
      "source": [
        "# Simulação"
      ],
      "metadata": {
        "id": "5uAXt6oKZdTV"
      }
    },
    {
      "cell_type": "code",
      "source": [
        "client_app = ClientApp(client_fn)\n",
        "server_app = ServerApp(server_fn=server_fn)\n"
      ],
      "metadata": {
        "id": "XCjFoH9gw_w3"
      },
      "execution_count": 31,
      "outputs": []
    },
    {
      "cell_type": "code",
      "source": [
        "# https://flower.ai/docs/framework/how-to-run-simulations.html\n",
        "run_simulation(\n",
        "    server_app=server_app, client_app=client_app, num_supernodes=num_supernodes, backend_config={\"client_resources\": {\"num_cpus\": 0.25,\"num_gpus\": 1}}\n",
        ")"
      ],
      "metadata": {
        "colab": {
          "base_uri": "https://localhost:8080/",
          "height": 1000,
          "referenced_widgets": [
            "8ebddae17ec64c158bf8b07a2591aad6",
            "65ca025336d74c97bd71bb49b1e2fa6f",
            "7f4d253b0948411c983aa078031940da",
            "ca99ddae7836417585ec8b1a92dc1f7b",
            "00c136136a90451e8d7b0a06f0479f03",
            "d25bb3179cce49138bfbe658db10bc9c",
            "18e4bda6755d408f8425ad43a822d0a8",
            "25695dbfc82346bb981e094511d73463",
            "68bdf3a2d64b405d9da025261049c74f",
            "e87be72578b349b683ed3d6a6ac1f10b",
            "ea527fd501b64fcf85d652a639943d77",
            "02b3a43a154d4f4bab6fd4a574a0d302",
            "dcc6017fcee34fa99bbd1e6a30fae508",
            "568a17b0903c41f59f0039b5668d29e5",
            "d86441e69751421b9908470d9a28096c",
            "bdb67171051e4ff8bcac363eccd8f342",
            "41af8a908c3243a3b99a24eb7e1a9566",
            "99baaccb444e4e58b8428b5ad324a646",
            "b3df2301319b4054b6a3d6c7068ed5b7",
            "b55dd674e592489abdd78df73ce55ce9",
            "0d169870b43e4305b05deb439276f5b8",
            "7335cc08c6944b3e9bd648e4746089cc",
            "e5a349e53304424d8786b4ab3214e3e3",
            "f5a04917c8bd4c1da868f28ccb916ae9",
            "869d5ab84e7e4af3b437111d4e0a9d8a",
            "4c87d5cc2af64513a8c47cc7814e9766",
            "98c9c4ef96c448d7ab0b72424a1b3790",
            "17c9ef85bfd946448b0758b36e60daca",
            "80658fb23fe6406aba58f3f84d917cf8",
            "87619d5d73bc491b8090da6f3e630655",
            "3063b8ec5e7442daa3a23a3b3028923a",
            "d77a6112706a4437a00a57c7d01a507f",
            "5dfad913ff2d4cf2bee2f879d2743842",
            "7648609ec80d456b896b2fe2cf2efbd6",
            "98c9a045d66547cb90559f2c836f266f",
            "d262a1cafd2a43638623c5967f553a58",
            "a8e6e3bd81544ff3a601d3574b8ff695",
            "e0742d70366a45019001af61d23e892d",
            "d87112c2d6d445bca15fbc079dd15bd8",
            "24ced9e743d3442abb3123b4f4e5df25",
            "3c02f42b704c4f089644f510fad609e5",
            "7e06fd69920849558f39cb0e60e34510",
            "a96b13dbef334133b83aaca220f577ba",
            "8a7bf27806214c1693f347e49d084af4",
            "7c4d483b68824ba6b13a52a70377ca70",
            "fa7c48e1ddca4bd4bc96d9fdbfa3e59a",
            "4f320fa6766e43d1967ca186bcde6f40",
            "41ec4551f3ca428683fd6b3396b564d9",
            "1a713c729ceb403a900871a84a540d60",
            "d756817910534e9289c8f1a2d4fc65be",
            "5950a7ce4038419c9ff4338f0db85db6",
            "f2bd5dc43bcb401dbf79cff67edccb3e",
            "90866171402e428694b3eefd2e72c8d6",
            "1e0b67f48c2d45f5a56eaace07267ca8",
            "ab73a955b71447e98b6edcd12962441b"
          ]
        },
        "id": "knavyPOUxBbx",
        "outputId": "38ae000b-e68e-47e3-dffd-61ce91eed261"
      },
      "execution_count": 32,
      "outputs": [
        {
          "output_type": "display_data",
          "data": {
            "text/plain": [
              "tokenizer_config.json:   0%|          | 0.00/3.69k [00:00<?, ?B/s]"
            ],
            "application/vnd.jupyter.widget-view+json": {
              "version_major": 2,
              "version_minor": 0,
              "model_id": "8ebddae17ec64c158bf8b07a2591aad6"
            }
          },
          "metadata": {}
        },
        {
          "output_type": "display_data",
          "data": {
            "text/plain": [
              "vocab.json:   0%|          | 0.00/801k [00:00<?, ?B/s]"
            ],
            "application/vnd.jupyter.widget-view+json": {
              "version_major": 2,
              "version_minor": 0,
              "model_id": "02b3a43a154d4f4bab6fd4a574a0d302"
            }
          },
          "metadata": {}
        },
        {
          "output_type": "display_data",
          "data": {
            "text/plain": [
              "merges.txt:   0%|          | 0.00/466k [00:00<?, ?B/s]"
            ],
            "application/vnd.jupyter.widget-view+json": {
              "version_major": 2,
              "version_minor": 0,
              "model_id": "e5a349e53304424d8786b4ab3214e3e3"
            }
          },
          "metadata": {}
        },
        {
          "output_type": "display_data",
          "data": {
            "text/plain": [
              "tokenizer.json:   0%|          | 0.00/2.10M [00:00<?, ?B/s]"
            ],
            "application/vnd.jupyter.widget-view+json": {
              "version_major": 2,
              "version_minor": 0,
              "model_id": "7648609ec80d456b896b2fe2cf2efbd6"
            }
          },
          "metadata": {}
        },
        {
          "output_type": "display_data",
          "data": {
            "text/plain": [
              "special_tokens_map.json:   0%|          | 0.00/831 [00:00<?, ?B/s]"
            ],
            "application/vnd.jupyter.widget-view+json": {
              "version_major": 2,
              "version_minor": 0,
              "model_id": "7c4d483b68824ba6b13a52a70377ca70"
            }
          },
          "metadata": {}
        },
        {
          "output_type": "stream",
          "name": "stderr",
          "text": [
            "\u001b[92mINFO \u001b[0m:      Starting Flower ServerApp, config: num_rounds=2, no round_timeout\n",
            "\u001b[92mINFO \u001b[0m:      \n",
            "\u001b[92mINFO \u001b[0m:      [INIT]\n",
            "\u001b[92mINFO \u001b[0m:      Using initial global parameters provided by strategy\n",
            "\u001b[92mINFO \u001b[0m:      Starting evaluation of initial global parameters\n",
            "\u001b[36m(pid=9831)\u001b[0m 2025-05-22 23:00:38.383396: E external/local_xla/xla/stream_executor/cuda/cuda_fft.cc:477] Unable to register cuFFT factory: Attempting to register factory for plugin cuFFT when one has already been registered\n",
            "\u001b[36m(pid=9831)\u001b[0m WARNING: All log messages before absl::InitializeLog() is called are written to STDERR\n",
            "\u001b[36m(pid=9831)\u001b[0m E0000 00:00:1747954838.418268    9831 cuda_dnn.cc:8310] Unable to register cuDNN factory: Attempting to register factory for plugin cuDNN when one has already been registered\n",
            "\u001b[36m(pid=9831)\u001b[0m E0000 00:00:1747954838.429251    9831 cuda_blas.cc:1418] Unable to register cuBLAS factory: Attempting to register factory for plugin cuBLAS when one has already been registered\n"
          ]
        },
        {
          "output_type": "stream",
          "name": "stdout",
          "text": [
            "Round: 0\n",
            "K: 1\n",
            "Threshold: 0.983983983983984\n",
            "F1: 0.8741514360313316\n",
            "Precision: 0.9147540983606557\n",
            "Recall: 0.837\n",
            "Round: 0\n",
            "K: 3\n",
            "Threshold: 0.993993993993994\n",
            "F1: 0.8843020097772949\n",
            "Precision: 0.9678953626634959\n",
            "Recall: 0.814\n",
            "Round: 0\n",
            "K: 5\n",
            "Threshold: 0.997997997997998\n",
            "F1: 0.9356486210418795\n",
            "Precision: 0.9561586638830898\n",
            "Recall: 0.916\n"
          ]
        },
        {
          "output_type": "stream",
          "name": "stderr",
          "text": [
            "\u001b[92mINFO \u001b[0m:      Evaluation returned no results (`None`)\n",
            "\u001b[92mINFO \u001b[0m:      \n",
            "\u001b[92mINFO \u001b[0m:      [ROUND 1]\n",
            "\u001b[92mINFO \u001b[0m:      configure_fit: strategy sampled 2 clients (out of 5)\n"
          ]
        },
        {
          "output_type": "stream",
          "name": "stdout",
          "text": [
            "Round: 0\n",
            "K: 10\n",
            "Threshold: 1.0\n",
            "F1: 0.8934306569343066\n",
            "Precision: 0.8701421800947867\n",
            "Recall: 0.918\n",
            "\u001b[36m(ClientAppActor pid=9831)\u001b[0m Rodada 1: Treinando Cliente 0 com lr 0.000505\n"
          ]
        },
        {
          "output_type": "stream",
          "name": "stderr",
          "text": [
            "\u001b[36m(ClientAppActor pid=9831)\u001b[0m /content/drive/MyDrive/Colab Notebooks/Minicurso SBRC/utils.py:21: FutureWarning: `tokenizer` is deprecated and will be removed in version 5.0.0 for `CustomTrainer.__init__`. Use `processing_class` instead.\n",
            "\u001b[36m(ClientAppActor pid=9831)\u001b[0m   super().__init__(**kwargs)\n",
            "\u001b[36m(ClientAppActor pid=9831)\u001b[0m No label_names provided for model class `PeftModel`. Since `PeftModel` hides base models input arguments, if label_names is not given, label_names can't be set automatically within `Trainer`. Note that empty label_names list will be used instead.\n",
            "  0%|          | 0/10 [00:00<?, ?it/s]\n",
            " 10%|█         | 1/10 [00:01<00:17,  1.91s/it]\n",
            " 20%|██        | 2/10 [00:02<00:11,  1.39s/it]\n",
            " 30%|███       | 3/10 [00:03<00:08,  1.22s/it]\n",
            " 40%|████      | 4/10 [00:04<00:06,  1.14s/it]\n",
            " 50%|█████     | 5/10 [00:05<00:05,  1.09s/it]\n",
            " 60%|██████    | 6/10 [00:06<00:04,  1.06s/it]\n",
            " 70%|███████   | 7/10 [00:07<00:03,  1.05s/it]\n",
            " 80%|████████  | 8/10 [00:09<00:02,  1.03s/it]\n",
            " 90%|█████████ | 9/10 [00:10<00:01,  1.03s/it]\n",
            "100%|██████████| 10/10 [00:11<00:00,  1.03s/it]\n"
          ]
        },
        {
          "output_type": "stream",
          "name": "stdout",
          "text": [
            "\u001b[36m(ClientAppActor pid=9831)\u001b[0m {'train_runtime': 11.5275, 'train_samples_per_second': 6.94, 'train_steps_per_second': 0.867, 'train_loss': 8.501805114746094, 'epoch': 0.43}\n",
            "\u001b[36m(ClientAppActor pid=9831)\u001b[0m Rodada 1: Cliente 0 treinou\n"
          ]
        },
        {
          "output_type": "stream",
          "name": "stderr",
          "text": [
            "\u001b[36m(ClientAppActor pid=9831)\u001b[0m \r                                               \r\r100%|██████████| 10/10 [00:11<00:00,  1.03s/it]\r100%|██████████| 10/10 [00:11<00:00,  1.15s/it]\n",
            "\u001b[36m(ClientAppActor pid=9831)\u001b[0m /content/drive/MyDrive/Colab Notebooks/Minicurso SBRC/utils.py:21: FutureWarning: `tokenizer` is deprecated and will be removed in version 5.0.0 for `CustomTrainer.__init__`. Use `processing_class` instead.\n",
            "\u001b[36m(ClientAppActor pid=9831)\u001b[0m   super().__init__(**kwargs)\n",
            "\u001b[36m(ClientAppActor pid=9831)\u001b[0m No label_names provided for model class `PeftModel`. Since `PeftModel` hides base models input arguments, if label_names is not given, label_names can't be set automatically within `Trainer`. Note that empty label_names list will be used instead.\n"
          ]
        },
        {
          "output_type": "stream",
          "name": "stdout",
          "text": [
            "\u001b[36m(ClientAppActor pid=9831)\u001b[0m Rodada 1: Treinando Cliente 3 com lr 0.000505\n"
          ]
        },
        {
          "output_type": "stream",
          "name": "stderr",
          "text": [
            "  0%|          | 0/10 [00:00<?, ?it/s]\n",
            " 10%|█         | 1/10 [00:01<00:09,  1.07s/it]\n",
            " 20%|██        | 2/10 [00:02<00:08,  1.05s/it]\n",
            " 30%|███       | 3/10 [00:03<00:07,  1.05s/it]\n",
            " 40%|████      | 4/10 [00:04<00:06,  1.04s/it]\n",
            " 50%|█████     | 5/10 [00:05<00:05,  1.03s/it]\n",
            " 60%|██████    | 6/10 [00:06<00:04,  1.03s/it]\n",
            " 70%|███████   | 7/10 [00:07<00:03,  1.03s/it]\n",
            " 80%|████████  | 8/10 [00:08<00:02,  1.03s/it]\n",
            " 90%|█████████ | 9/10 [00:09<00:01,  1.02s/it]\n",
            "100%|██████████| 10/10 [00:10<00:00,  1.02s/it]\n",
            "100%|██████████| 10/10 [00:10<00:00,  1.09s/it]\n",
            "\u001b[92mINFO \u001b[0m:      aggregate_fit: received 2 results and 0 failures\n",
            "\u001b[93mWARNING \u001b[0m:   No fit_metrics_aggregation_fn provided\n"
          ]
        },
        {
          "output_type": "stream",
          "name": "stdout",
          "text": [
            "\u001b[36m(ClientAppActor pid=9831)\u001b[0m {'train_runtime': 10.8573, 'train_samples_per_second': 7.368, 'train_steps_per_second': 0.921, 'train_loss': 8.438809204101563, 'epoch': 0.43}\n",
            "\u001b[36m(ClientAppActor pid=9831)\u001b[0m Rodada 1: Cliente 3 treinou\n",
            "Round: 1\n",
            "K: 1\n",
            "Threshold: 0.985985985985986\n",
            "F1: 0.8986415882967607\n",
            "Precision: 0.9409190371991247\n",
            "Recall: 0.86\n",
            "Round: 1\n",
            "K: 3\n",
            "Threshold: 0.993993993993994\n",
            "F1: 0.8945102260495156\n",
            "Precision: 0.9685314685314685\n",
            "Recall: 0.831\n",
            "Round: 1\n",
            "K: 5\n",
            "Threshold: 0.996996996996997\n",
            "F1: 0.9230769230769231\n",
            "Precision: 0.9473684210526315\n",
            "Recall: 0.9\n"
          ]
        },
        {
          "output_type": "stream",
          "name": "stderr",
          "text": [
            "\u001b[92mINFO \u001b[0m:      configure_evaluate: no clients selected, skipping evaluation\n",
            "\u001b[92mINFO \u001b[0m:      \n",
            "\u001b[92mINFO \u001b[0m:      [ROUND 2]\n",
            "\u001b[92mINFO \u001b[0m:      configure_fit: strategy sampled 2 clients (out of 5)\n"
          ]
        },
        {
          "output_type": "stream",
          "name": "stdout",
          "text": [
            "Round: 1\n",
            "K: 10\n",
            "Threshold: 1.0\n",
            "F1: 0.8963503649635036\n",
            "Precision: 0.8729857819905213\n",
            "Recall: 0.921\n",
            "\u001b[36m(ClientAppActor pid=9831)\u001b[0m Rodada 2: Treinando Cliente 0 com lr 1e-05\n"
          ]
        },
        {
          "output_type": "stream",
          "name": "stderr",
          "text": [
            "\u001b[36m(ClientAppActor pid=9831)\u001b[0m /content/drive/MyDrive/Colab Notebooks/Minicurso SBRC/utils.py:21: FutureWarning: `tokenizer` is deprecated and will be removed in version 5.0.0 for `CustomTrainer.__init__`. Use `processing_class` instead.\n",
            "\u001b[36m(ClientAppActor pid=9831)\u001b[0m   super().__init__(**kwargs)\n",
            "\u001b[36m(ClientAppActor pid=9831)\u001b[0m No label_names provided for model class `PeftModel`. Since `PeftModel` hides base models input arguments, if label_names is not given, label_names can't be set automatically within `Trainer`. Note that empty label_names list will be used instead.\n",
            "  0%|          | 0/10 [00:00<?, ?it/s]\n",
            " 10%|█         | 1/10 [00:01<00:09,  1.03s/it]\n",
            " 20%|██        | 2/10 [00:02<00:08,  1.01s/it]\n",
            " 30%|███       | 3/10 [00:03<00:07,  1.00s/it]\n",
            " 40%|████      | 4/10 [00:04<00:06,  1.00s/it]\n",
            " 50%|█████     | 5/10 [00:05<00:05,  1.00s/it]\n",
            " 60%|██████    | 6/10 [00:06<00:04,  1.00s/it]\n",
            " 70%|███████   | 7/10 [00:07<00:03,  1.01s/it]\n",
            " 80%|████████  | 8/10 [00:08<00:02,  1.01s/it]\n",
            " 90%|█████████ | 9/10 [00:09<00:01,  1.02s/it]\n",
            "100%|██████████| 10/10 [00:10<00:00,  1.02s/it]\n"
          ]
        },
        {
          "output_type": "stream",
          "name": "stdout",
          "text": [
            "\u001b[36m(ClientAppActor pid=9831)\u001b[0m {'train_runtime': 10.6571, 'train_samples_per_second': 7.507, 'train_steps_per_second': 0.938, 'train_loss': 7.408606719970703, 'epoch': 0.43}\n",
            "\u001b[36m(ClientAppActor pid=9831)\u001b[0m Rodada 2: Cliente 0 treinou\n"
          ]
        },
        {
          "output_type": "stream",
          "name": "stderr",
          "text": [
            "\u001b[36m(ClientAppActor pid=9831)\u001b[0m \r                                               \r\r100%|██████████| 10/10 [00:10<00:00,  1.02s/it]\r100%|██████████| 10/10 [00:10<00:00,  1.07s/it]\n"
          ]
        },
        {
          "output_type": "stream",
          "name": "stdout",
          "text": [
            "\u001b[36m(ClientAppActor pid=9831)\u001b[0m Rodada 2: Treinando Cliente 1 com lr 1e-05\n"
          ]
        },
        {
          "output_type": "stream",
          "name": "stderr",
          "text": [
            "\u001b[36m(ClientAppActor pid=9831)\u001b[0m /content/drive/MyDrive/Colab Notebooks/Minicurso SBRC/utils.py:21: FutureWarning: `tokenizer` is deprecated and will be removed in version 5.0.0 for `CustomTrainer.__init__`. Use `processing_class` instead.\n",
            "\u001b[36m(ClientAppActor pid=9831)\u001b[0m   super().__init__(**kwargs)\n",
            "\u001b[36m(ClientAppActor pid=9831)\u001b[0m No label_names provided for model class `PeftModel`. Since `PeftModel` hides base models input arguments, if label_names is not given, label_names can't be set automatically within `Trainer`. Note that empty label_names list will be used instead.\n",
            "  0%|          | 0/10 [00:00<?, ?it/s]\n",
            " 10%|█         | 1/10 [00:01<00:09,  1.05s/it]\n",
            " 20%|██        | 2/10 [00:02<00:08,  1.03s/it]\n",
            " 30%|███       | 3/10 [00:03<00:07,  1.03s/it]\n",
            " 40%|████      | 4/10 [00:04<00:06,  1.03s/it]\n",
            " 50%|█████     | 5/10 [00:05<00:05,  1.03s/it]\n",
            " 60%|██████    | 6/10 [00:06<00:04,  1.03s/it]\n",
            " 70%|███████   | 7/10 [00:07<00:03,  1.04s/it]\n",
            " 80%|████████  | 8/10 [00:08<00:02,  1.04s/it]\n",
            " 90%|█████████ | 9/10 [00:09<00:01,  1.04s/it]\n",
            "100%|██████████| 10/10 [00:10<00:00,  1.05s/it]\n"
          ]
        },
        {
          "output_type": "stream",
          "name": "stdout",
          "text": [
            "\u001b[36m(ClientAppActor pid=9831)\u001b[0m {'train_runtime': 10.9496, 'train_samples_per_second': 7.306, 'train_steps_per_second': 0.913, 'train_loss': 7.346208190917968, 'epoch': 0.43}\n"
          ]
        },
        {
          "output_type": "stream",
          "name": "stderr",
          "text": [
            "\u001b[36m(ClientAppActor pid=9831)\u001b[0m \r                                               \r\r100%|██████████| 10/10 [00:10<00:00,  1.05s/it]\r100%|██████████| 10/10 [00:10<00:00,  1.09s/it]\n",
            "\u001b[92mINFO \u001b[0m:      aggregate_fit: received 2 results and 0 failures\n"
          ]
        },
        {
          "output_type": "stream",
          "name": "stdout",
          "text": [
            "\u001b[36m(ClientAppActor pid=9831)\u001b[0m Rodada 2: Cliente 1 treinou\n",
            "Round: 2\n",
            "K: 1\n",
            "Threshold: 0.985985985985986\n",
            "F1: 0.8958333333333334\n",
            "Precision: 0.9347826086956522\n",
            "Recall: 0.86\n",
            "Round: 2\n",
            "K: 3\n",
            "Threshold: 0.993993993993994\n",
            "F1: 0.8951048951048951\n",
            "Precision: 0.9685681024447031\n",
            "Recall: 0.832\n",
            "Round: 2\n",
            "K: 5\n",
            "Threshold: 0.996996996996997\n",
            "F1: 0.9230769230769231\n",
            "Precision: 0.9473684210526315\n",
            "Recall: 0.9\n"
          ]
        },
        {
          "output_type": "stream",
          "name": "stderr",
          "text": [
            "\u001b[92mINFO \u001b[0m:      configure_evaluate: no clients selected, skipping evaluation\n",
            "\u001b[92mINFO \u001b[0m:      \n",
            "\u001b[92mINFO \u001b[0m:      [SUMMARY]\n",
            "\u001b[92mINFO \u001b[0m:      Run finished 2 round(s) in 441.69s\n",
            "\u001b[92mINFO \u001b[0m:      \n"
          ]
        },
        {
          "output_type": "stream",
          "name": "stdout",
          "text": [
            "Round: 2\n",
            "K: 10\n",
            "Threshold: 1.0\n",
            "F1: 0.8958130477117819\n",
            "Precision: 0.872865275142315\n",
            "Recall: 0.92\n"
          ]
        }
      ]
    }
  ]
}